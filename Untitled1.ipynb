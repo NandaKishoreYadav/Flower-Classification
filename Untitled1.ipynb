{
 "cells": [
  {
   "cell_type": "code",
   "execution_count": 1,
   "id": "8067fe8a",
   "metadata": {},
   "outputs": [],
   "source": [
    "from tensorflow.keras.applications import ResNet50\n",
    "from tensorflow.keras.models import Model\n",
    "from tensorflow.keras.layers import Conv2D, MaxPooling2D, Flatten, Dense\n",
    "import os"
   ]
  },
  {
   "cell_type": "code",
   "execution_count": 2,
   "id": "8f625783",
   "metadata": {},
   "outputs": [],
   "source": [
    "from tensorflow.keras.preprocessing.image import ImageDataGenerator\n",
    "import tensorflow as tf\n",
    "from tensorflow.keras.optimizers import RMSprop  \n",
    "from tensorflow.keras.models import model_from_json\n",
    "from tensorflow.keras.models import load_model"
   ]
  },
  {
   "cell_type": "code",
   "execution_count": 3,
   "id": "99a3ad51",
   "metadata": {},
   "outputs": [],
   "source": [
    "daisy_dir = os.path.join(r'flowers\\daisy')\n",
    "dandelion_dir = os.path.join(r'flowers\\dandelion')\n",
    "rose_dir = os.path.join(r'flowers\\rose')\n",
    "sunflower_dir = os.path.join(r'flowers\\sunflower')\n",
    "tulip_dir = os.path.join(r'flowers\\tulip')"
   ]
  },
  {
   "cell_type": "code",
   "execution_count": 4,
   "id": "5c7d575e",
   "metadata": {},
   "outputs": [
    {
     "name": "stdout",
     "output_type": "stream",
     "text": [
      "['1.jpg', '100080576_f52e8ee070_n.jpg', '10140303196_b88d3d6cec.jpg', '10172379554_b296050f82_n.jpg', '10172567486_2748826a8b.jpg']\n",
      "['10090824183_d02c613f10_m.jpg', '102501987_3cdb8e5394_n.jpg', '10503217854_e66a804309.jpg', '10894627425_ec76bbc757_n.jpg', '11.jpg']\n"
     ]
    }
   ],
   "source": [
    "train_daisy_names = os.listdir(daisy_dir)\n",
    "print(train_daisy_names[:5])\n",
    "\n",
    "train_rose_names = os.listdir(rose_dir)\n",
    "print(train_rose_names[:5])"
   ]
  },
  {
   "cell_type": "code",
   "execution_count": 5,
   "id": "73ee5c6a",
   "metadata": {},
   "outputs": [],
   "source": [
    "batch_size = 128"
   ]
  },
  {
   "cell_type": "code",
   "execution_count": 6,
   "id": "c0d3de55",
   "metadata": {},
   "outputs": [
    {
     "name": "stdout",
     "output_type": "stream",
     "text": [
      "Found 4323 images belonging to 5 classes.\n"
     ]
    }
   ],
   "source": [
    "# All images will be rescaled by 1./255\n",
    "train_datagen = ImageDataGenerator(rescale=1/255)\n",
    "\n",
    "# Flow training images in batches of 128 using train_datagen generator\n",
    "train_generator = train_datagen.flow_from_directory(r'flowers',  # This is the source directory for training images\n",
    "        target_size=(200, 200),  # All images will be resized to 200 x 200\n",
    "        batch_size=batch_size,\n",
    "        # Specify the classes explicitly\n",
    "        classes = ['daisy','dandelion','rose','sunflower','tulip'],\n",
    "        # Since we use categorical_crossentropy loss, we need categorical labels\n",
    "        class_mode='categorical')\n",
    "target_size=(200,200)"
   ]
  },
  {
   "cell_type": "code",
   "execution_count": 7,
   "id": "4a59f8c2",
   "metadata": {},
   "outputs": [
    {
     "name": "stdout",
     "output_type": "stream",
     "text": [
      "Downloading data from https://storage.googleapis.com/tensorflow/keras-applications/resnet/resnet50_weights_tf_dim_ordering_tf_kernels_notop.h5\n",
      "94765736/94765736 [==============================] - 325s 3us/step\n"
     ]
    }
   ],
   "source": [
    "dnn_model =  tf.keras.models.Sequential()\n",
    "imported_model= tf.keras.applications.ResNet50(include_top=False,input_shape=(180,180,3),\n",
    "                                               pooling='avg',classes=5,\n",
    "                                               weights='imagenet')"
   ]
  },
  {
   "cell_type": "code",
   "execution_count": 8,
   "id": "26f5f91f",
   "metadata": {},
   "outputs": [],
   "source": [
    "for layer in imported_model.layers:\n",
    "    layer.trainable=False\n",
    "from tensorflow.python.keras.layers import Dense, Flatten"
   ]
  },
  {
   "cell_type": "code",
   "execution_count": 9,
   "id": "7d449c67",
   "metadata": {},
   "outputs": [],
   "source": [
    "dnn_model.add(imported_model)\n",
    "dnn_model.add(Flatten())\n",
    "dnn_model.add(Dense(512, activation='relu'))\n",
    "dnn_model.add(Dense(5, activation='softmax'))"
   ]
  },
  {
   "cell_type": "code",
   "execution_count": 11,
   "id": "2f5a0312",
   "metadata": {
    "scrolled": true
   },
   "outputs": [
    {
     "name": "stderr",
     "output_type": "stream",
     "text": [
      "C:\\Users\\NandaKishore\\AppData\\Local\\Temp\\ipykernel_26236\\4111106025.py:7: UserWarning: `Model.fit_generator` is deprecated and will be removed in a future version. Please use `Model.fit`, which supports generators.\n",
      "  dnn_model.fit_generator(\n"
     ]
    },
    {
     "name": "stdout",
     "output_type": "stream",
     "text": [
      "Epoch 1/5\n",
      "33/33 [==============================] - 139s 4s/step - loss: 11.0264 - acc: 0.2005\n",
      "Epoch 2/5\n",
      "33/33 [==============================] - 139s 4s/step - loss: 1.6509 - acc: 0.2153\n",
      "Epoch 3/5\n",
      "33/33 [==============================] - 146s 4s/step - loss: 1.6046 - acc: 0.2298\n",
      "Epoch 4/5\n",
      "33/33 [==============================] - 136s 4s/step - loss: 1.6032 - acc: 0.2362\n",
      "Epoch 5/5\n",
      "33/33 [==============================] - 139s 4s/step - loss: 1.6047 - acc: 0.2317\n"
     ]
    },
    {
     "data": {
      "text/plain": [
       "<keras.callbacks.History at 0x19f9491ad30>"
      ]
     },
     "execution_count": 11,
     "metadata": {},
     "output_type": "execute_result"
    }
   ],
   "source": [
    "# Optimizer and compilation\n",
    "dnn_model.compile(loss='categorical_crossentropy',optimizer=tf.keras.optimizers.Adam(lr=0.4),metrics=['acc'])#RMSprop(lr=0.001)\n",
    "# Now you can train your custom model with additional convolutional layers\n",
    "total_sample=train_generator.n\n",
    "# Training\n",
    "num_epochs = 5\n",
    "dnn_model.fit_generator(\n",
    "        train_generator, \n",
    "        steps_per_epoch=int(total_sample/batch_size),  \n",
    "        epochs=num_epochs,\n",
    "        verbose=1)"
   ]
  },
  {
   "cell_type": "code",
   "execution_count": 17,
   "id": "77d65865",
   "metadata": {},
   "outputs": [
    {
     "ename": "NotImplementedError",
     "evalue": "\nLayer ModuleWrapper has arguments ['module', 'method_name']\nin `__init__` and therefore must override `get_config()`.\n\nExample:\n\nclass CustomLayer(keras.layers.Layer):\n    def __init__(self, arg1, arg2):\n        super().__init__()\n        self.arg1 = arg1\n        self.arg2 = arg2\n\n    def get_config(self):\n        config = super().get_config()\n        config.update({\n            \"arg1\": self.arg1,\n            \"arg2\": self.arg2,\n        })\n        return config",
     "output_type": "error",
     "traceback": [
      "\u001b[1;31m---------------------------------------------------------------------------\u001b[0m",
      "\u001b[1;31mNotImplementedError\u001b[0m                       Traceback (most recent call last)",
      "Cell \u001b[1;32mIn[17], line 1\u001b[0m\n\u001b[1;32m----> 1\u001b[0m model_json \u001b[38;5;241m=\u001b[39m \u001b[43mdnn_model\u001b[49m\u001b[38;5;241;43m.\u001b[39;49m\u001b[43mto_json\u001b[49m\u001b[43m(\u001b[49m\u001b[43m)\u001b[49m\n\u001b[0;32m      2\u001b[0m \u001b[38;5;28;01mwith\u001b[39;00m \u001b[38;5;28mopen\u001b[39m(\u001b[38;5;124m\"\u001b[39m\u001b[38;5;124mmodelGG.json\u001b[39m\u001b[38;5;124m\"\u001b[39m, \u001b[38;5;124m\"\u001b[39m\u001b[38;5;124mw\u001b[39m\u001b[38;5;124m\"\u001b[39m) \u001b[38;5;28;01mas\u001b[39;00m json_file:\n\u001b[0;32m      3\u001b[0m     json_file\u001b[38;5;241m.\u001b[39mwrite(model_json)\n",
      "File \u001b[1;32m~\\.conda\\envs\\aiml\\lib\\site-packages\\keras\\engine\\training.py:3086\u001b[0m, in \u001b[0;36mModel.to_json\u001b[1;34m(self, **kwargs)\u001b[0m\n\u001b[0;32m   3073\u001b[0m \u001b[38;5;28;01mdef\u001b[39;00m \u001b[38;5;21mto_json\u001b[39m(\u001b[38;5;28mself\u001b[39m, \u001b[38;5;241m*\u001b[39m\u001b[38;5;241m*\u001b[39mkwargs):\n\u001b[0;32m   3074\u001b[0m \u001b[38;5;250m    \u001b[39m\u001b[38;5;124;03m\"\"\"Returns a JSON string containing the network configuration.\u001b[39;00m\n\u001b[0;32m   3075\u001b[0m \n\u001b[0;32m   3076\u001b[0m \u001b[38;5;124;03m    To load a network from a JSON save file, use\u001b[39;00m\n\u001b[1;32m   (...)\u001b[0m\n\u001b[0;32m   3084\u001b[0m \u001b[38;5;124;03m        A JSON string.\u001b[39;00m\n\u001b[0;32m   3085\u001b[0m \u001b[38;5;124;03m    \"\"\"\u001b[39;00m\n\u001b[1;32m-> 3086\u001b[0m     model_config \u001b[38;5;241m=\u001b[39m \u001b[38;5;28;43mself\u001b[39;49m\u001b[38;5;241;43m.\u001b[39;49m\u001b[43m_updated_config\u001b[49m\u001b[43m(\u001b[49m\u001b[43m)\u001b[49m\n\u001b[0;32m   3087\u001b[0m     \u001b[38;5;28;01mreturn\u001b[39;00m json\u001b[38;5;241m.\u001b[39mdumps(\n\u001b[0;32m   3088\u001b[0m         model_config, default\u001b[38;5;241m=\u001b[39mjson_utils\u001b[38;5;241m.\u001b[39mget_json_type, \u001b[38;5;241m*\u001b[39m\u001b[38;5;241m*\u001b[39mkwargs\n\u001b[0;32m   3089\u001b[0m     )\n",
      "File \u001b[1;32m~\\.conda\\envs\\aiml\\lib\\site-packages\\keras\\engine\\training.py:2954\u001b[0m, in \u001b[0;36mModel._updated_config\u001b[1;34m(self)\u001b[0m\n\u001b[0;32m   2947\u001b[0m \u001b[38;5;250m\u001b[39m\u001b[38;5;124;03m\"\"\"Util shared between different serialization methods.\u001b[39;00m\n\u001b[0;32m   2948\u001b[0m \n\u001b[0;32m   2949\u001b[0m \u001b[38;5;124;03mReturns:\u001b[39;00m\n\u001b[0;32m   2950\u001b[0m \u001b[38;5;124;03m    Model config with Keras version information added.\u001b[39;00m\n\u001b[0;32m   2951\u001b[0m \u001b[38;5;124;03m\"\"\"\u001b[39;00m\n\u001b[0;32m   2952\u001b[0m \u001b[38;5;28;01mfrom\u001b[39;00m \u001b[38;5;21;01mkeras\u001b[39;00m \u001b[38;5;28;01mimport\u001b[39;00m __version__ \u001b[38;5;28;01mas\u001b[39;00m keras_version\n\u001b[1;32m-> 2954\u001b[0m config \u001b[38;5;241m=\u001b[39m \u001b[38;5;28;43mself\u001b[39;49m\u001b[38;5;241;43m.\u001b[39;49m\u001b[43mget_config\u001b[49m\u001b[43m(\u001b[49m\u001b[43m)\u001b[49m\n\u001b[0;32m   2955\u001b[0m model_config \u001b[38;5;241m=\u001b[39m {\n\u001b[0;32m   2956\u001b[0m     \u001b[38;5;124m\"\u001b[39m\u001b[38;5;124mclass_name\u001b[39m\u001b[38;5;124m\"\u001b[39m: \u001b[38;5;28mself\u001b[39m\u001b[38;5;241m.\u001b[39m\u001b[38;5;18m__class__\u001b[39m\u001b[38;5;241m.\u001b[39m\u001b[38;5;18m__name__\u001b[39m,\n\u001b[0;32m   2957\u001b[0m     \u001b[38;5;124m\"\u001b[39m\u001b[38;5;124mconfig\u001b[39m\u001b[38;5;124m\"\u001b[39m: config,\n\u001b[0;32m   2958\u001b[0m     \u001b[38;5;124m\"\u001b[39m\u001b[38;5;124mkeras_version\u001b[39m\u001b[38;5;124m\"\u001b[39m: keras_version,\n\u001b[0;32m   2959\u001b[0m     \u001b[38;5;124m\"\u001b[39m\u001b[38;5;124mbackend\u001b[39m\u001b[38;5;124m\"\u001b[39m: backend\u001b[38;5;241m.\u001b[39mbackend(),\n\u001b[0;32m   2960\u001b[0m }\n\u001b[0;32m   2961\u001b[0m \u001b[38;5;28;01mreturn\u001b[39;00m model_config\n",
      "File \u001b[1;32m~\\.conda\\envs\\aiml\\lib\\site-packages\\keras\\engine\\sequential.py:454\u001b[0m, in \u001b[0;36mSequential.get_config\u001b[1;34m(self)\u001b[0m\n\u001b[0;32m    448\u001b[0m layer_configs \u001b[38;5;241m=\u001b[39m []\n\u001b[0;32m    449\u001b[0m \u001b[38;5;28;01mfor\u001b[39;00m layer \u001b[38;5;129;01min\u001b[39;00m \u001b[38;5;28msuper\u001b[39m()\u001b[38;5;241m.\u001b[39mlayers:\n\u001b[0;32m    450\u001b[0m     \u001b[38;5;66;03m# `super().layers` include the InputLayer if available (it is\u001b[39;00m\n\u001b[0;32m    451\u001b[0m     \u001b[38;5;66;03m# filtered out of `self.layers`). Note that\u001b[39;00m\n\u001b[0;32m    452\u001b[0m     \u001b[38;5;66;03m# `self._self_tracked_trackables` is managed by the tracking\u001b[39;00m\n\u001b[0;32m    453\u001b[0m     \u001b[38;5;66;03m# infrastructure and should not be used.\u001b[39;00m\n\u001b[1;32m--> 454\u001b[0m     layer_configs\u001b[38;5;241m.\u001b[39mappend(\u001b[43mgeneric_utils\u001b[49m\u001b[38;5;241;43m.\u001b[39;49m\u001b[43mserialize_keras_object\u001b[49m\u001b[43m(\u001b[49m\u001b[43mlayer\u001b[49m\u001b[43m)\u001b[49m)\n\u001b[0;32m    455\u001b[0m config \u001b[38;5;241m=\u001b[39m {\u001b[38;5;124m\"\u001b[39m\u001b[38;5;124mname\u001b[39m\u001b[38;5;124m\"\u001b[39m: \u001b[38;5;28mself\u001b[39m\u001b[38;5;241m.\u001b[39mname, \u001b[38;5;124m\"\u001b[39m\u001b[38;5;124mlayers\u001b[39m\u001b[38;5;124m\"\u001b[39m: copy\u001b[38;5;241m.\u001b[39mdeepcopy(layer_configs)}\n\u001b[0;32m    456\u001b[0m \u001b[38;5;28;01mif\u001b[39;00m \u001b[38;5;129;01mnot\u001b[39;00m \u001b[38;5;28mself\u001b[39m\u001b[38;5;241m.\u001b[39m_is_graph_network \u001b[38;5;129;01mand\u001b[39;00m \u001b[38;5;28mself\u001b[39m\u001b[38;5;241m.\u001b[39m_build_input_shape \u001b[38;5;129;01mis\u001b[39;00m \u001b[38;5;129;01mnot\u001b[39;00m \u001b[38;5;28;01mNone\u001b[39;00m:\n",
      "File \u001b[1;32m~\\.conda\\envs\\aiml\\lib\\site-packages\\keras\\utils\\generic_utils.py:543\u001b[0m, in \u001b[0;36mserialize_keras_object\u001b[1;34m(instance)\u001b[0m\n\u001b[0;32m    539\u001b[0m     \u001b[38;5;28;01mif\u001b[39;00m _SKIP_FAILED_SERIALIZATION:\n\u001b[0;32m    540\u001b[0m         \u001b[38;5;28;01mreturn\u001b[39;00m serialize_keras_class_and_config(\n\u001b[0;32m    541\u001b[0m             name, {_LAYER_UNDEFINED_CONFIG_KEY: \u001b[38;5;28;01mTrue\u001b[39;00m}\n\u001b[0;32m    542\u001b[0m         )\n\u001b[1;32m--> 543\u001b[0m     \u001b[38;5;28;01mraise\u001b[39;00m e\n\u001b[0;32m    544\u001b[0m serialization_config \u001b[38;5;241m=\u001b[39m {}\n\u001b[0;32m    545\u001b[0m \u001b[38;5;28;01mfor\u001b[39;00m key, item \u001b[38;5;129;01min\u001b[39;00m config\u001b[38;5;241m.\u001b[39mitems():\n",
      "File \u001b[1;32m~\\.conda\\envs\\aiml\\lib\\site-packages\\keras\\utils\\generic_utils.py:537\u001b[0m, in \u001b[0;36mserialize_keras_object\u001b[1;34m(instance)\u001b[0m\n\u001b[0;32m    535\u001b[0m name \u001b[38;5;241m=\u001b[39m get_registered_name(instance\u001b[38;5;241m.\u001b[39m\u001b[38;5;18m__class__\u001b[39m)\n\u001b[0;32m    536\u001b[0m \u001b[38;5;28;01mtry\u001b[39;00m:\n\u001b[1;32m--> 537\u001b[0m     config \u001b[38;5;241m=\u001b[39m \u001b[43minstance\u001b[49m\u001b[38;5;241;43m.\u001b[39;49m\u001b[43mget_config\u001b[49m\u001b[43m(\u001b[49m\u001b[43m)\u001b[49m\n\u001b[0;32m    538\u001b[0m \u001b[38;5;28;01mexcept\u001b[39;00m \u001b[38;5;167;01mNotImplementedError\u001b[39;00m \u001b[38;5;28;01mas\u001b[39;00m e:\n\u001b[0;32m    539\u001b[0m     \u001b[38;5;28;01mif\u001b[39;00m _SKIP_FAILED_SERIALIZATION:\n",
      "File \u001b[1;32m~\\.conda\\envs\\aiml\\lib\\site-packages\\keras\\engine\\base_layer.py:786\u001b[0m, in \u001b[0;36mLayer.get_config\u001b[1;34m(self)\u001b[0m\n\u001b[0;32m    783\u001b[0m \u001b[38;5;66;03m# Check that either the only argument in the `__init__` is  `self`,\u001b[39;00m\n\u001b[0;32m    784\u001b[0m \u001b[38;5;66;03m# or that `get_config` has been overridden:\u001b[39;00m\n\u001b[0;32m    785\u001b[0m \u001b[38;5;28;01mif\u001b[39;00m extra_args \u001b[38;5;129;01mand\u001b[39;00m \u001b[38;5;28mhasattr\u001b[39m(\u001b[38;5;28mself\u001b[39m\u001b[38;5;241m.\u001b[39mget_config, \u001b[38;5;124m\"\u001b[39m\u001b[38;5;124m_is_default\u001b[39m\u001b[38;5;124m\"\u001b[39m):\n\u001b[1;32m--> 786\u001b[0m     \u001b[38;5;28;01mraise\u001b[39;00m \u001b[38;5;167;01mNotImplementedError\u001b[39;00m(\n\u001b[0;32m    787\u001b[0m         textwrap\u001b[38;5;241m.\u001b[39mdedent(\n\u001b[0;32m    788\u001b[0m             \u001b[38;5;124mf\u001b[39m\u001b[38;5;124m\"\"\"\u001b[39m\n\u001b[0;32m    789\u001b[0m \u001b[38;5;124m  Layer \u001b[39m\u001b[38;5;132;01m{\u001b[39;00m\u001b[38;5;28mself\u001b[39m\u001b[38;5;241m.\u001b[39m\u001b[38;5;18m__class__\u001b[39m\u001b[38;5;241m.\u001b[39m\u001b[38;5;18m__name__\u001b[39m\u001b[38;5;132;01m}\u001b[39;00m\u001b[38;5;124m has arguments \u001b[39m\u001b[38;5;132;01m{\u001b[39;00mextra_args\u001b[38;5;132;01m}\u001b[39;00m\n\u001b[0;32m    790\u001b[0m \u001b[38;5;124m  in `__init__` and therefore must override `get_config()`.\u001b[39m\n\u001b[0;32m    791\u001b[0m \n\u001b[0;32m    792\u001b[0m \u001b[38;5;124m  Example:\u001b[39m\n\u001b[0;32m    793\u001b[0m \n\u001b[0;32m    794\u001b[0m \u001b[38;5;124m  class CustomLayer(keras.layers.Layer):\u001b[39m\n\u001b[0;32m    795\u001b[0m \u001b[38;5;124m      def __init__(self, arg1, arg2):\u001b[39m\n\u001b[0;32m    796\u001b[0m \u001b[38;5;124m          super().__init__()\u001b[39m\n\u001b[0;32m    797\u001b[0m \u001b[38;5;124m          self.arg1 = arg1\u001b[39m\n\u001b[0;32m    798\u001b[0m \u001b[38;5;124m          self.arg2 = arg2\u001b[39m\n\u001b[0;32m    799\u001b[0m \n\u001b[0;32m    800\u001b[0m \u001b[38;5;124m      def get_config(self):\u001b[39m\n\u001b[0;32m    801\u001b[0m \u001b[38;5;124m          config = super().get_config()\u001b[39m\n\u001b[0;32m    802\u001b[0m \u001b[38;5;124m          config.update(\u001b[39m\u001b[38;5;130;01m{{\u001b[39;00m\n\u001b[0;32m    803\u001b[0m \u001b[38;5;124m              \u001b[39m\u001b[38;5;124m\"\u001b[39m\u001b[38;5;124marg1\u001b[39m\u001b[38;5;124m\"\u001b[39m\u001b[38;5;124m: self.arg1,\u001b[39m\n\u001b[0;32m    804\u001b[0m \u001b[38;5;124m              \u001b[39m\u001b[38;5;124m\"\u001b[39m\u001b[38;5;124marg2\u001b[39m\u001b[38;5;124m\"\u001b[39m\u001b[38;5;124m: self.arg2,\u001b[39m\n\u001b[0;32m    805\u001b[0m \u001b[38;5;124m          \u001b[39m\u001b[38;5;130;01m}}\u001b[39;00m\u001b[38;5;124m)\u001b[39m\n\u001b[0;32m    806\u001b[0m \u001b[38;5;124m          return config\u001b[39m\u001b[38;5;124m\"\"\"\u001b[39m\n\u001b[0;32m    807\u001b[0m         )\n\u001b[0;32m    808\u001b[0m     )\n\u001b[0;32m    810\u001b[0m \u001b[38;5;28;01mreturn\u001b[39;00m config\n",
      "\u001b[1;31mNotImplementedError\u001b[0m: \nLayer ModuleWrapper has arguments ['module', 'method_name']\nin `__init__` and therefore must override `get_config()`.\n\nExample:\n\nclass CustomLayer(keras.layers.Layer):\n    def __init__(self, arg1, arg2):\n        super().__init__()\n        self.arg1 = arg1\n        self.arg2 = arg2\n\n    def get_config(self):\n        config = super().get_config()\n        config.update({\n            \"arg1\": self.arg1,\n            \"arg2\": self.arg2,\n        })\n        return config"
     ]
    }
   ],
   "source": [
    "model_json = dnn_model.to_json()\n",
    "with open(\"modelGG.json\", \"w\") as json_file:\n",
    "    json_file.write(model_json)\n",
    "# serialize weights to HDF5\n",
    "dnn_model.save_weights(\"model1GG.h5\")\n",
    "print(\"Saved model to disk\")"
   ]
  },
  {
   "cell_type": "code",
   "execution_count": null,
   "id": "82f0fc9c",
   "metadata": {},
   "outputs": [],
   "source": []
  },
  {
   "cell_type": "code",
   "execution_count": null,
   "id": "d8e3423a",
   "metadata": {},
   "outputs": [],
   "source": []
  },
  {
   "cell_type": "code",
   "execution_count": null,
   "id": "3b973f4c",
   "metadata": {},
   "outputs": [],
   "source": []
  }
 ],
 "metadata": {
  "kernelspec": {
   "display_name": "Python 3 (ipykernel)",
   "language": "python",
   "name": "python3"
  },
  "language_info": {
   "codemirror_mode": {
    "name": "ipython",
    "version": 3
   },
   "file_extension": ".py",
   "mimetype": "text/x-python",
   "name": "python",
   "nbconvert_exporter": "python",
   "pygments_lexer": "ipython3",
   "version": "3.9.18"
  }
 },
 "nbformat": 4,
 "nbformat_minor": 5
}
