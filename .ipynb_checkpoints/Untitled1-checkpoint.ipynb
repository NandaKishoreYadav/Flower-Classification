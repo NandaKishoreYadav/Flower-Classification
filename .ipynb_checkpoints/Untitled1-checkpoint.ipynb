{
 "cells": [
  {
   "cell_type": "code",
   "execution_count": 1,
   "id": "52a459a8",
   "metadata": {},
   "outputs": [],
   "source": [
    "from tensorflow.keras.applications import ResNet50\n",
    "from tensorflow.keras.models import Model\n",
    "from tensorflow.keras.layers import Conv2D, MaxPooling2D, Flatten, Dense\n",
    "import os"
   ]
  },
  {
   "cell_type": "code",
   "execution_count": 2,
   "id": "b83602ed",
   "metadata": {},
   "outputs": [],
   "source": [
    "from tensorflow.keras.preprocessing.image import ImageDataGenerator\n",
    "import tensorflow as tf\n",
    "from tensorflow.keras.optimizers import RMSprop  \n",
    "from tensorflow.keras.models import model_from_json\n",
    "from tensorflow.keras.models import load_model"
   ]
  },
  {
   "cell_type": "code",
   "execution_count": 3,
   "id": "b3bfa4b9",
   "metadata": {},
   "outputs": [],
   "source": [
    "daisy_dir = os.path.join(r'flowers\\daisy')\n",
    "dandelion_dir = os.path.join(r'flowers\\dandelion')\n",
    "rose_dir = os.path.join(r'flowers\\rose')\n",
    "sunflower_dir = os.path.join(r'flowers\\sunflower')\n",
    "tulip_dir = os.path.join(r'flowers\\tulip')"
   ]
  },
  {
   "cell_type": "code",
   "execution_count": 4,
   "id": "ed7e9a97",
   "metadata": {},
   "outputs": [
    {
     "name": "stdout",
     "output_type": "stream",
     "text": [
      "['1.jpg', '100080576_f52e8ee070_n.jpg', '10140303196_b88d3d6cec.jpg', '10172379554_b296050f82_n.jpg', '10172567486_2748826a8b.jpg']\n",
      "['10090824183_d02c613f10_m.jpg', '102501987_3cdb8e5394_n.jpg', '10503217854_e66a804309.jpg', '10894627425_ec76bbc757_n.jpg', '11.jpg']\n"
     ]
    }
   ],
   "source": [
    "train_daisy_names = os.listdir(daisy_dir)\n",
    "print(train_daisy_names[:5])\n",
    "\n",
    "train_rose_names = os.listdir(rose_dir)\n",
    "print(train_rose_names[:5])"
   ]
  },
  {
   "cell_type": "code",
   "execution_count": 5,
   "id": "b9da0244",
   "metadata": {},
   "outputs": [],
   "source": [
    "batch_size = 128"
   ]
  },
  {
   "cell_type": "code",
   "execution_count": 6,
   "id": "61d79485",
   "metadata": {},
   "outputs": [
    {
     "name": "stdout",
     "output_type": "stream",
     "text": [
      "Found 4323 images belonging to 5 classes.\n"
     ]
    }
   ],
   "source": [
    "# All images will be rescaled by 1./255\n",
    "train_datagen = ImageDataGenerator(rescale=1/255)\n",
    "\n",
    "# Flow training images in batches of 128 using train_datagen generator\n",
    "train_generator = train_datagen.flow_from_directory(r'flowers',  # This is the source directory for training images\n",
    "        target_size=(200, 200),  # All images will be resized to 200 x 200\n",
    "        batch_size=batch_size,\n",
    "        # Specify the classes explicitly\n",
    "        classes = ['daisy','dandelion','rose','sunflower','tulip'],\n",
    "        # Since we use categorical_crossentropy loss, we need categorical labels\n",
    "        class_mode='categorical')\n",
    "target_size=(200,200)"
   ]
  },
  {
   "cell_type": "code",
   "execution_count": 7,
   "id": "1fe8f80d",
   "metadata": {},
   "outputs": [
    {
     "name": "stdout",
     "output_type": "stream",
     "text": [
      "Downloading data from https://storage.googleapis.com/tensorflow/keras-applications/resnet/resnet50_weights_tf_dim_ordering_tf_kernels_notop.h5\n",
      "94765736/94765736 [==============================] - 325s 3us/step\n"
     ]
    }
   ],
   "source": [
    "dnn_model =  tf.keras.models.Sequential()\n",
    "imported_model= tf.keras.applications.ResNet50(include_top=False,input_shape=(180,180,3),\n",
    "                                               pooling='avg',classes=5,\n",
    "                                               weights='imagenet')"
   ]
  },
  {
   "cell_type": "code",
   "execution_count": 8,
   "id": "7ffaaf10",
   "metadata": {},
   "outputs": [],
   "source": [
    "for layer in imported_model.layers:\n",
    "    layer.trainable=False\n",
    "from tensorflow.python.keras.layers import Dense, Flatten"
   ]
  },
  {
   "cell_type": "code",
   "execution_count": 9,
   "id": "b8c75ad1",
   "metadata": {},
   "outputs": [],
   "source": [
    "dnn_model.add(imported_model)\n",
    "dnn_model.add(Flatten())\n",
    "dnn_model.add(Dense(512, activation='relu'))\n",
    "dnn_model.add(Dense(5, activation='softmax'))"
   ]
  },
  {
   "cell_type": "code",
   "execution_count": 11,
   "id": "441b0aa0",
   "metadata": {
    "scrolled": true
   },
   "outputs": [
    {
     "name": "stderr",
     "output_type": "stream",
     "text": [
      "C:\\Users\\NandaKishore\\AppData\\Local\\Temp\\ipykernel_26236\\4111106025.py:7: UserWarning: `Model.fit_generator` is deprecated and will be removed in a future version. Please use `Model.fit`, which supports generators.\n",
      "  dnn_model.fit_generator(\n"
     ]
    },
    {
     "name": "stdout",
     "output_type": "stream",
     "text": [
      "Epoch 1/5\n",
      "33/33 [==============================] - 139s 4s/step - loss: 11.0264 - acc: 0.2005\n",
      "Epoch 2/5\n",
      "33/33 [==============================] - 139s 4s/step - loss: 1.6509 - acc: 0.2153\n",
      "Epoch 3/5\n",
      "33/33 [==============================] - 146s 4s/step - loss: 1.6046 - acc: 0.2298\n",
      "Epoch 4/5\n",
      "33/33 [==============================] - 136s 4s/step - loss: 1.6032 - acc: 0.2362\n",
      "Epoch 5/5\n",
      "33/33 [==============================] - 139s 4s/step - loss: 1.6047 - acc: 0.2317\n"
     ]
    },
    {
     "data": {
      "text/plain": [
       "<keras.callbacks.History at 0x19f9491ad30>"
      ]
     },
     "execution_count": 11,
     "metadata": {},
     "output_type": "execute_result"
    }
   ],
   "source": [
    "# Optimizer and compilation\n",
    "dnn_model.compile(loss='categorical_crossentropy',optimizer=tf.keras.optimizers.Adam(lr=0.4),metrics=['acc'])#RMSprop(lr=0.001)\n",
    "# Now you can train your custom model with additional convolutional layers\n",
    "total_sample=train_generator.n\n",
    "# Training\n",
    "num_epochs = 5\n",
    "dnn_model.fit_generator(\n",
    "        train_generator, \n",
    "        steps_per_epoch=int(total_sample/batch_size),  \n",
    "        epochs=num_epochs,\n",
    "        verbose=1)"
   ]
  },
  {
   "cell_type": "code",
   "execution_count": null,
   "id": "7c28da54",
   "metadata": {},
   "outputs": [],
   "source": []
  },
  {
   "cell_type": "code",
   "execution_count": null,
   "id": "a954959d",
   "metadata": {},
   "outputs": [],
   "source": []
  },
  {
   "cell_type": "code",
   "execution_count": null,
   "id": "9337ead7",
   "metadata": {},
   "outputs": [],
   "source": []
  }
 ],
 "metadata": {
  "kernelspec": {
   "display_name": "Python 3 (ipykernel)",
   "language": "python",
   "name": "python3"
  },
  "language_info": {
   "codemirror_mode": {
    "name": "ipython",
    "version": 3
   },
   "file_extension": ".py",
   "mimetype": "text/x-python",
   "name": "python",
   "nbconvert_exporter": "python",
   "pygments_lexer": "ipython3",
   "version": "3.9.18"
  }
 },
 "nbformat": 4,
 "nbformat_minor": 5
}
